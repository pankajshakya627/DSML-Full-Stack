{
  "nbformat": 4,
  "nbformat_minor": 0,
  "metadata": {
    "colab": {
      "name": "Assignment 02.ipynb",
      "provenance": [],
      "collapsed_sections": []
    },
    "kernelspec": {
      "name": "python3",
      "display_name": "Python 3"
    },
    "language_info": {
      "name": "python"
    }
  },
  "cells": [
    {
      "cell_type": "markdown",
      "source": [
        "##Ans 01\n",
        "\n",
        "- The two value of boolen data type are True or False\n",
        "- True\n",
        "- False\n",
        "In python internally True is treated as 1 and False is treated as 0."
      ],
      "metadata": {
        "id": "qwl0feG5PBqA"
      }
    },
    {
      "cell_type": "markdown",
      "source": [
        "### Ans 02\n",
        "*3 different type of boolen operator*\n",
        "- If we use boolen operater than we get result as False/True\n",
        "- `and`  - check both operad is true then return True else False \n",
        "- `or` - if 1 operand is true return True else False\n",
        "- `not` - it negate the result if operand return true then it will return False\n",
        "\n",
        "example; a = 1, b= 3\n",
        "-  a > 4  and b < 1 ->False\n",
        "\n",
        "-  a > 4  or b > 1-> True, \n",
        "  \n",
        "-  not(a > 4) -> True\n",
        "\n"
      ],
      "metadata": {
        "id": "w9c4dOdHP3gl"
      }
    },
    {
      "cell_type": "markdown",
      "source": [
        "## Ans 03 \n",
        "### Truth Table for `and`\n",
        "\n",
        "----------------------------------\n",
        "| A | B | `and` |\n",
        "|:-:|---|--------|\n",
        "| 0 | 0 | 0      |\n",
        "| 0 | 1 | 0      |\n",
        "| 1 | 0 | 0      |\n",
        "| 1 | 1 | 1      |\n",
        "\n",
        "### Truth Table for `or`\n",
        "--------------------------\n",
        "| A | B | `or`   |\n",
        "|:-:|---|--------|\n",
        "| 0 | 0 | 0      |\n",
        "| 0 | 1 | 1      |\n",
        "| 1 | 0 | 1      |\n",
        "| 1 | 1 | 1      |\n",
        "\n",
        "\n",
        "### Truth table for  `not`\n",
        "-------------------------\n",
        "| A |`not`| \n",
        "|:-:|-----|\n",
        "| 0 | 1   | \n",
        "| 1 | 0   | \n",
        "\n"
      ],
      "metadata": {
        "id": "LpVf_vytSLRg"
      }
    },
    {
      "cell_type": "markdown",
      "source": [
        "## Ans 04\n",
        "\n",
        "- (5>4) and (3==5)  -> False\n",
        "- not(5>4)  -> False\n",
        "- ( 5>4 ) or ( 3==5 ) - > True\n",
        "- not(( 5>4 ) or ( 3==5 )) -> False\n",
        "- (True and True) and (True==False) -> False\n",
        "- (not(False) or (not True) -> True"
      ],
      "metadata": {
        "id": "olBhFuLESLUL"
      }
    },
    {
      "cell_type": "code",
      "source": [
        "print((5>4) and (3==5))\n",
        "print(not(5>4))\n",
        "print((5>4) or (3==5))\n",
        "print(not((5>4) or (3==5)))\n",
        "print(((True and True) and (True==False)))\n",
        "print((not(False) or (not True)))"
      ],
      "metadata": {
        "colab": {
          "base_uri": "https://localhost:8080/"
        },
        "id": "4dvE4HKdY5eB",
        "outputId": "3ab9dc6b-57ae-4322-8cce-1643da93bdad"
      },
      "execution_count": 1,
      "outputs": [
        {
          "output_type": "stream",
          "name": "stdout",
          "text": [
            "False\n",
            "False\n",
            "True\n",
            "False\n",
            "False\n",
            "True\n"
          ]
        }
      ]
    },
    {
      "cell_type": "markdown",
      "source": [
        "## Ans 05 \n",
        "### Six Comparison operator\n",
        "\n",
        "\n",
        "|Sr | Discreption       |Symbol| \n",
        "|:--|:----------------- |:-----|\n",
        "| 1.|is equal           | `==` |\n",
        "| 2.|is not equal       | `!=` |\n",
        "| 3.|graeter than       | `>`  |\n",
        "| 4.|greater than equal | `>=` |\n",
        "| 5.| less than         | `<`  |\n",
        "| 6.|less than equal    | `<=` | \n",
        "\n",
        "\n"
      ],
      "metadata": {
        "id": "XZwlFVDxSLXn"
      }
    },
    {
      "cell_type": "markdown",
      "source": [
        "## Ans 06\n",
        "#### Difference between equal to and assignment operator\n",
        "- equal to `==` compare the data \n",
        "- `==` operator is check that left hand side value is equal to the right hand side value. But in the assignment operator `=` it will assign right hand side value into the left hand side value. LHS value now treated as memory holder (variable of the RHS value).\n",
        "\n",
        "- In `==` if both values are equal than it will return True else False\n",
        "\n",
        "- eg. If you want to hold int value to variable a, b then we will use assignment operator like ->  a=10, b=20\n",
        "- If you wanyt to check to variable a, b have the same value or not then we will use equal to opetrator `==`\n",
        "- a==b it will either True or False"
      ],
      "metadata": {
        "id": "-hhegb9TcX9P"
      }
    },
    {
      "cell_type": "markdown",
      "source": [
        "## Ans 07\n",
        "### 3 block in the code is\n",
        "\n",
        "1. First if \n",
        "2. Second if and then\n",
        "3. else"
      ],
      "metadata": {
        "id": "ztWlwgE1eLeo"
      }
    },
    {
      "cell_type": "code",
      "source": [
        "spam=0 \n",
        "if spam==10:\n",
        "    print('aggs')\n",
        "    if spam >5:\n",
        "        print('bacon')\n",
        "    else:\n",
        "        print('ham')  \n",
        "    print('spam')\n",
        "print('spam')"
      ],
      "metadata": {
        "id": "siDjn-bXTeNV",
        "colab": {
          "base_uri": "https://localhost:8080/"
        },
        "outputId": "28327449-4005-4255-a7fd-4f6d9b45616f"
      },
      "execution_count": 2,
      "outputs": [
        {
          "output_type": "stream",
          "name": "stdout",
          "text": [
            "spam\n"
          ]
        }
      ]
    },
    {
      "cell_type": "markdown",
      "source": [
        "## Ans 08"
      ],
      "metadata": {
        "id": "Spv6Cx4g17eJ"
      }
    },
    {
      "cell_type": "code",
      "source": [
        "spam = eval(input(\"Enter value: \"))\n",
        "if spam==1:\n",
        "    print(\"Hello\")\n",
        "elif spam==2:\n",
        "    print(\"Howdy\")\n",
        "else:\n",
        "    print(\"Greetings!\")\n"
      ],
      "metadata": {
        "id": "DRw_yUAQ1zRF",
        "colab": {
          "base_uri": "https://localhost:8080/"
        },
        "outputId": "bfd3c1ec-6fee-4f0e-a115-afc375397c1a"
      },
      "execution_count": 3,
      "outputs": [
        {
          "output_type": "stream",
          "name": "stdout",
          "text": [
            "Enter value: 2\n",
            "Howdy\n"
          ]
        }
      ]
    },
    {
      "cell_type": "markdown",
      "source": [
        "## Ans 09\n",
        "\n",
        "1. We are working in colab/jupyter notebook then interrupt the Kernal\n",
        "2. By pessing crtr+C or Crtl+M\n",
        "3. In coding we can use break keyword \n"
      ],
      "metadata": {
        "id": "NrPH5Xsg9AW1"
      }
    },
    {
      "cell_type": "markdown",
      "source": [
        "## Ans 10\n",
        "### Difference between break and continue\n",
        "-  continue causes next iteration of the loop to run immeditlty.\n",
        "- break terminate the loop and resume execution after the top.\n",
        "- If case of nested loop it terminate the mostly nested loop and start execution after that loop."
      ],
      "metadata": {
        "id": "JbQeMXFMAYV3"
      }
    },
    {
      "cell_type": "markdown",
      "source": [
        "## Ans 11\n",
        "- range(10), range(0,10), and range(0,10,1)\n",
        "- In the for loop all the three statement behave same\n",
        "- all these three produce result - range(0,10)"
      ],
      "metadata": {
        "id": "RTUjZ9NiEZQs"
      }
    },
    {
      "cell_type": "markdown",
      "source": [
        "## Ans 12"
      ],
      "metadata": {
        "id": "K4txcE_OFljy"
      }
    },
    {
      "cell_type": "code",
      "source": [
        "for i in range(1,11):\n",
        "    print(i)\n",
        "\n",
        "print()\n",
        "num = 1\n",
        "while num<11:\n",
        "    print(num)\n",
        "    num += 1"
      ],
      "metadata": {
        "colab": {
          "base_uri": "https://localhost:8080/"
        },
        "id": "oqKE3uFQ8KUY",
        "outputId": "f99f16fa-8f54-4690-ba38-8adf75b1dd8f"
      },
      "execution_count": 4,
      "outputs": [
        {
          "output_type": "stream",
          "name": "stdout",
          "text": [
            "1\n",
            "2\n",
            "3\n",
            "4\n",
            "5\n",
            "6\n",
            "7\n",
            "8\n",
            "9\n",
            "10\n",
            "\n",
            "1\n",
            "2\n",
            "3\n",
            "4\n",
            "5\n",
            "6\n",
            "7\n",
            "8\n",
            "9\n",
            "10\n"
          ]
        }
      ]
    },
    {
      "cell_type": "markdown",
      "source": [
        "## Ans 13\n",
        "- We can use sapm.becaon()"
      ],
      "metadata": {
        "id": "enoMYGMmGJGx"
      }
    },
    {
      "cell_type": "code",
      "source": [
        ""
      ],
      "metadata": {
        "id": "vnN00SE59Pc8"
      },
      "execution_count": 4,
      "outputs": []
    }
  ]
}